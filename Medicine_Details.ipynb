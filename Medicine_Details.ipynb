{
 "cells": [
  {
   "cell_type": "code",
   "execution_count": 2,
   "id": "a83e4d90-e88b-4df5-ad05-867e6de290ec",
   "metadata": {},
   "outputs": [],
   "source": [
    "# Core Libraries\n",
    "import pandas as pd\n",
    "import numpy as np\n",
    "\n",
    "# Visualization\n",
    "import matplotlib.pyplot as plt\n",
    "import seaborn as sns\n",
    "\n",
    "# To display plots inline\n",
    "%matplotlib inline\n"
   ]
  },
  {
   "cell_type": "code",
   "execution_count": 4,
   "id": "51ab79c9-6c7b-4371-8cb9-07f3a210c26f",
   "metadata": {},
   "outputs": [
    {
     "name": "stdout",
     "output_type": "stream",
     "text": [
      "              Medicine Name  \\\n",
      "0   Avastin 400mg Injection   \n",
      "1  Augmentin 625 Duo Tablet   \n",
      "2       Azithral 500 Tablet   \n",
      "3          Ascoril LS Syrup   \n",
      "4         Aciloc 150 Tablet   \n",
      "\n",
      "                                         Composition  \\\n",
      "0                                Bevacizumab (400mg)   \n",
      "1    Amoxycillin  (500mg) +  Clavulanic Acid (125mg)   \n",
      "2                               Azithromycin (500mg)   \n",
      "3  Ambroxol (30mg/5ml) + Levosalbutamol (1mg/5ml)...   \n",
      "4                                 Ranitidine (150mg)   \n",
      "\n",
      "                                                Uses  \\\n",
      "0   Cancer of colon and rectum Non-small cell lun...   \n",
      "1                  Treatment of Bacterial infections   \n",
      "2                  Treatment of Bacterial infections   \n",
      "3                      Treatment of Cough with mucus   \n",
      "4  Treatment of Gastroesophageal reflux disease (...   \n",
      "\n",
      "                                        Side_effects  \\\n",
      "0  Rectal bleeding Taste change Headache Noseblee...   \n",
      "1  Vomiting Nausea Diarrhea Mucocutaneous candidi...   \n",
      "2                     Nausea Abdominal pain Diarrhea   \n",
      "3  Nausea Vomiting Diarrhea Upset stomach Stomach...   \n",
      "4     Headache Diarrhea Gastrointestinal disturbance   \n",
      "\n",
      "                                           Image URL  \\\n",
      "0  https://onemg.gumlet.io/l_watermark_346,w_480,...   \n",
      "1  https://onemg.gumlet.io/l_watermark_346,w_480,...   \n",
      "2  https://onemg.gumlet.io/l_watermark_346,w_480,...   \n",
      "3  https://onemg.gumlet.io/l_watermark_346,w_480,...   \n",
      "4  https://onemg.gumlet.io/l_watermark_346,w_480,...   \n",
      "\n",
      "                           Manufacturer  Excellent Review %  Average Review %  \\\n",
      "0          Roche Products India Pvt Ltd                  22                56   \n",
      "1  Glaxo SmithKline Pharmaceuticals Ltd                  47                35   \n",
      "2           Alembic Pharmaceuticals Ltd                  39                40   \n",
      "3          Glenmark Pharmaceuticals Ltd                  24                41   \n",
      "4            Cadila Pharmaceuticals Ltd                  34                37   \n",
      "\n",
      "   Poor Review %  \n",
      "0             22  \n",
      "1             18  \n",
      "2             21  \n",
      "3             35  \n",
      "4             29  \n"
     ]
    }
   ],
   "source": [
    "# Replace 'path_to_dataset.csv' with the actual file path\n",
    "data = pd.read_csv(r\"D:\\codesoft\\Medicine_Details.csv\")\n",
    "\n",
    "# Display the first few rows to verify the dataset is loaded correctly\n",
    "print(data.head())\n"
   ]
  },
  {
   "cell_type": "code",
   "execution_count": 11,
   "id": "9c3ee1b5-1a5e-4b25-94be-32d57100577c",
   "metadata": {},
   "outputs": [],
   "source": [
    "# Encode categorical variable (Manufacturer)\n",
    "le = LabelEncoder()\n",
    "data['Manufacturer_Encoded'] = le.fit_transform(data['Manufacturer'])\n",
    "\n",
    "# Select features and target\n",
    "X = data[['Manufacturer_Encoded', 'Average Review %', 'Poor Review %']].values\n",
    "y = data['Excellent Review %'].values\n",
    "\n",
    "# Split dataset into training and test sets\n",
    "X_train, X_test, y_train, y_test = train_test_split(X, y, test_size=0.2, random_state=42)\n",
    "\n",
    "# Standardize the features\n",
    "scaler = StandardScaler()\n",
    "X_train = scaler.fit_transform(X_train)\n",
    "X_test = scaler.transform(X_test)"
   ]
  },
  {
   "cell_type": "code",
   "execution_count": 10,
   "id": "e5550711-931e-41b4-a516-4a5f4ecf81ce",
   "metadata": {},
   "outputs": [],
   "source": [
    "from sklearn.preprocessing import LabelEncoder\n",
    "from sklearn.model_selection import train_test_split\n",
    "from sklearn.preprocessing import StandardScaler\n",
    "\n",
    "\n"
   ]
  },
  {
   "cell_type": "code",
   "execution_count": 12,
   "id": "6b7f9936-3573-4553-89d9-c21d6fa1fbb2",
   "metadata": {},
   "outputs": [
    {
     "name": "stdout",
     "output_type": "stream",
     "text": [
      "Linear Regression MSE: 8.32236580533883e-29\n"
     ]
    }
   ],
   "source": [
    "from sklearn.linear_model import LinearRegression\n",
    "from sklearn.metrics import mean_squared_error\n",
    "\n",
    "lr = LinearRegression()\n",
    "lr.fit(X_train, y_train)\n",
    "y_pred = lr.predict(X_test)\n",
    "\n",
    "print(\"Linear Regression MSE:\", mean_squared_error(y_test, y_pred))\n"
   ]
  },
  {
   "cell_type": "code",
   "execution_count": 13,
   "id": "366e1c70-4944-440a-bda8-7a698ec4d76d",
   "metadata": {},
   "outputs": [
    {
     "name": "stdout",
     "output_type": "stream",
     "text": [
      "Decision Tree MSE: 0.30739957716701904\n"
     ]
    }
   ],
   "source": [
    "from sklearn.tree import DecisionTreeRegressor\n",
    "\n",
    "dt = DecisionTreeRegressor(random_state=42)\n",
    "dt.fit(X_train, y_train)\n",
    "y_pred = dt.predict(X_test)\n",
    "\n",
    "print(\"Decision Tree MSE:\", mean_squared_error(y_test, y_pred))\n"
   ]
  },
  {
   "cell_type": "code",
   "execution_count": 14,
   "id": "af7a3059-62e8-48b5-9ecf-16d28593d3f2",
   "metadata": {},
   "outputs": [
    {
     "name": "stdout",
     "output_type": "stream",
     "text": [
      "Random Forest MSE: 0.12182262156448205\n"
     ]
    }
   ],
   "source": [
    "from sklearn.ensemble import RandomForestRegressor\n",
    "\n",
    "rf = RandomForestRegressor(random_state=42, n_estimators=100)\n",
    "rf.fit(X_train, y_train)\n",
    "y_pred = rf.predict(X_test)\n",
    "\n",
    "print(\"Random Forest MSE:\", mean_squared_error(y_test, y_pred))\n"
   ]
  },
  {
   "cell_type": "code",
   "execution_count": 15,
   "id": "f90d92b7-f526-46ad-b354-1a8e2a5b12c7",
   "metadata": {},
   "outputs": [
    {
     "name": "stdout",
     "output_type": "stream",
     "text": [
      "Gradient Boosting MSE: 1.2960322981382686\n"
     ]
    }
   ],
   "source": [
    "from sklearn.ensemble import GradientBoostingRegressor\n",
    "\n",
    "gbr = GradientBoostingRegressor(random_state=42)\n",
    "gbr.fit(X_train, y_train)\n",
    "y_pred = gbr.predict(X_test)\n",
    "\n",
    "print(\"Gradient Boosting MSE:\", mean_squared_error(y_test, y_pred))\n"
   ]
  },
  {
   "cell_type": "code",
   "execution_count": 16,
   "id": "cc341f51-61fa-4af3-b1bb-923e6702c2e5",
   "metadata": {},
   "outputs": [
    {
     "name": "stdout",
     "output_type": "stream",
     "text": [
      "XGBoost MSE: 0.08330275337353862\n"
     ]
    }
   ],
   "source": [
    "from xgboost import XGBRegressor\n",
    "\n",
    "xgb = XGBRegressor(random_state=42)\n",
    "xgb.fit(X_train, y_train)\n",
    "y_pred = xgb.predict(X_test)\n",
    "\n",
    "print(\"XGBoost MSE:\", mean_squared_error(y_test, y_pred))\n"
   ]
  },
  {
   "cell_type": "code",
   "execution_count": 20,
   "id": "2ada0389-f980-4fe2-8fa8-1f0eb6b53547",
   "metadata": {},
   "outputs": [
    {
     "name": "stdout",
     "output_type": "stream",
     "text": [
      "[LightGBM] [Info] Auto-choosing col-wise multi-threading, the overhead of testing was 0.000613 seconds.\n",
      "You can set `force_col_wise=true` to remove the overhead.\n",
      "[LightGBM] [Info] Total Bins 395\n",
      "[LightGBM] [Info] Number of data points in the train set: 9460, number of used features: 3\n",
      "[LightGBM] [Info] Start training from score 38.656025\n",
      "LightGBM MSE: 0.18715327820056574\n"
     ]
    }
   ],
   "source": [
    "\n",
    "\n",
    "from lightgbm import LGBMRegressor\n",
    "\n",
    "lgbm = LGBMRegressor(random_state=42)\n",
    "lgbm.fit(X_train, y_train)\n",
    "y_pred = lgbm.predict(X_test)\n",
    "\n",
    "print(\"LightGBM MSE:\", mean_squared_error(y_test, y_pred))\n"
   ]
  },
  {
   "cell_type": "code",
   "execution_count": 19,
   "id": "626c2e64-0fa8-4888-9d26-38aba6ab4259",
   "metadata": {},
   "outputs": [
    {
     "name": "stdout",
     "output_type": "stream",
     "text": [
      "Collecting lightgbm\n",
      "  Downloading lightgbm-4.5.0-py3-none-win_amd64.whl.metadata (17 kB)\n",
      "Requirement already satisfied: numpy>=1.17.0 in c:\\users\\lalli\\appdata\\local\\programs\\python\\python310\\lib\\site-packages (from lightgbm) (1.26.4)\n",
      "Requirement already satisfied: scipy in c:\\users\\lalli\\appdata\\local\\programs\\python\\python310\\lib\\site-packages (from lightgbm) (1.14.1)\n",
      "Downloading lightgbm-4.5.0-py3-none-win_amd64.whl (1.4 MB)\n",
      "   ---------------------------------------- 0.0/1.4 MB ? eta -:--:--\n",
      "   -------------- ------------------------- 0.5/1.4 MB 4.2 MB/s eta 0:00:01\n",
      "   ----------------------------- ---------- 1.0/1.4 MB 2.4 MB/s eta 0:00:01\n",
      "   ------------------------------------ --- 1.3/1.4 MB 2.3 MB/s eta 0:00:01\n",
      "   ---------------------------------------- 1.4/1.4 MB 2.1 MB/s eta 0:00:00\n",
      "Installing collected packages: lightgbm\n",
      "Successfully installed lightgbm-4.5.0\n",
      "Note: you may need to restart the kernel to use updated packages.\n"
     ]
    },
    {
     "name": "stderr",
     "output_type": "stream",
     "text": [
      "\n",
      "[notice] A new release of pip is available: 24.2 -> 24.3.1\n",
      "[notice] To update, run: python.exe -m pip install --upgrade pip\n"
     ]
    }
   ],
   "source": [
    "pip install lightgbm"
   ]
  },
  {
   "cell_type": "code",
   "execution_count": 21,
   "id": "db640110-ed10-4a6d-9baf-754a35604f24",
   "metadata": {},
   "outputs": [
    {
     "name": "stdout",
     "output_type": "stream",
     "text": [
      "CatBoost MSE: 0.01394120313429937\n"
     ]
    }
   ],
   "source": [
    "from catboost import CatBoostRegressor\n",
    "\n",
    "catboost = CatBoostRegressor(verbose=0, random_state=42)\n",
    "catboost.fit(X_train, y_train)\n",
    "y_pred = catboost.predict(X_test)\n",
    "\n",
    "print(\"CatBoost MSE:\", mean_squared_error(y_test, y_pred))\n"
   ]
  },
  {
   "cell_type": "code",
   "execution_count": 22,
   "id": "1ad964ae-5697-407c-b339-d3644e003d69",
   "metadata": {},
   "outputs": [
    {
     "name": "stdout",
     "output_type": "stream",
     "text": [
      "SVR MSE: 0.3239989037175431\n"
     ]
    }
   ],
   "source": [
    "from sklearn.svm import SVR\n",
    "\n",
    "svr = SVR(kernel='rbf')\n",
    "svr.fit(X_train, y_train)\n",
    "y_pred = svr.predict(X_test)\n",
    "\n",
    "print(\"SVR MSE:\", mean_squared_error(y_test, y_pred))\n"
   ]
  },
  {
   "cell_type": "code",
   "execution_count": 23,
   "id": "aac6c051-a128-4663-8a90-c71702290d11",
   "metadata": {},
   "outputs": [
    {
     "name": "stdout",
     "output_type": "stream",
     "text": [
      "KNN MSE: 1.1797716701902747\n"
     ]
    }
   ],
   "source": [
    "from sklearn.neighbors import KNeighborsRegressor\n",
    "\n",
    "knn = KNeighborsRegressor(n_neighbors=5)\n",
    "knn.fit(X_train, y_train)\n",
    "y_pred = knn.predict(X_test)\n",
    "\n",
    "print(\"KNN MSE:\", mean_squared_error(y_test, y_pred))\n"
   ]
  },
  {
   "cell_type": "code",
   "execution_count": 24,
   "id": "813dceb2-a775-4bab-8865-da70d09a654a",
   "metadata": {},
   "outputs": [
    {
     "name": "stdout",
     "output_type": "stream",
     "text": [
      "MLP Regressor MSE: 0.005395219529296306\n"
     ]
    }
   ],
   "source": [
    "from sklearn.neural_network import MLPRegressor\n",
    "\n",
    "mlp = MLPRegressor(hidden_layer_sizes=(64, 32), max_iter=500, random_state=42)\n",
    "mlp.fit(X_train, y_train)\n",
    "y_pred = mlp.predict(X_test)\n",
    "\n",
    "print(\"MLP Regressor MSE:\", mean_squared_error(y_test, y_pred))\n"
   ]
  },
  {
   "cell_type": "code",
   "execution_count": 25,
   "id": "4e6f3701-c246-46eb-89da-752db157c99e",
   "metadata": {},
   "outputs": [
    {
     "name": "stdout",
     "output_type": "stream",
     "text": [
      "[LightGBM] [Info] Auto-choosing col-wise multi-threading, the overhead of testing was 0.000743 seconds.\n",
      "You can set `force_col_wise=true` to remove the overhead.\n",
      "[LightGBM] [Info] Total Bins 395\n",
      "[LightGBM] [Info] Number of data points in the train set: 9460, number of used features: 3\n",
      "[LightGBM] [Info] Start training from score 38.656025\n"
     ]
    },
    {
     "data": {
      "image/png": "[encoded data removed]",
      "text/plain": [
       "<Figure size 1200x600 with 1 Axes>"
      ]
     },
     "metadata": {},
     "output_type": "display_data"
    }
   ],
   "source": [
    "import matplotlib.pyplot as plt\n",
    "from sklearn.metrics import mean_squared_error, r2_score\n",
    "\n",
    "# List of models (as shown earlier)\n",
    "models = {\n",
    "    \"Linear Regression\": LinearRegression(),\n",
    "    \"Decision Tree\": DecisionTreeRegressor(random_state=42),\n",
    "    \"Random Forest\": RandomForestRegressor(random_state=42, n_estimators=100),\n",
    "    \"Gradient Boosting\": GradientBoostingRegressor(random_state=42),\n",
    "    \"XGBoost\": XGBRegressor(random_state=42),\n",
    "    \"LightGBM\": LGBMRegressor(random_state=42),\n",
    "    \"CatBoost\": CatBoostRegressor(verbose=0, random_state=42),\n",
    "    \"SVR\": SVR(kernel='rbf'),\n",
    "    \"KNN\": KNeighborsRegressor(n_neighbors=5),\n",
    "    \"MLP Regressor\": MLPRegressor(hidden_layer_sizes=(64, 32), max_iter=500, random_state=42)\n",
    "}\n",
    "\n",
    "# List to store MSE for each model\n",
    "model_mse = []\n",
    "\n",
    "# Train and evaluate each model\n",
    "for name, model in models.items():\n",
    "    model.fit(X_train, y_train)\n",
    "    y_pred = model.predict(X_test)\n",
    "    mse = mean_squared_error(y_test, y_pred)\n",
    "    model_mse.append(mse)\n",
    "\n",
    "# Plotting MSE for each model\n",
    "plt.figure(figsize=(12, 6))\n",
    "plt.barh(list(models.keys()), model_mse, color='skyblue')\n",
    "plt.xlabel('Mean Squared Error')\n",
    "plt.title('Comparison of Models: MSE')\n",
    "plt.show()\n"
   ]
  },
  {
   "cell_type": "code",
   "execution_count": 26,
   "id": "e71e92d7-1d7a-4358-994d-fb69b13d4061",
   "metadata": {},
   "outputs": [
    {
     "name": "stdout",
     "output_type": "stream",
     "text": [
      "[LightGBM] [Info] Auto-choosing col-wise multi-threading, the overhead of testing was 0.000985 seconds.\n",
      "You can set `force_col_wise=true` to remove the overhead.\n",
      "[LightGBM] [Info] Total Bins 395\n",
      "[LightGBM] [Info] Number of data points in the train set: 9460, number of used features: 3\n",
      "[LightGBM] [Info] Start training from score 38.656025\n"
     ]
    },
    {
     "data": {
      "image/png": "[encoded data removed]",
      "text/plain": [
       "<Figure size 1200x600 with 1 Axes>"
      ]
     },
     "metadata": {},
     "output_type": "display_data"
    }
   ],
   "source": [
    "# List to store R² scores for each model\n",
    "model_r2 = []\n",
    "\n",
    "# Train and evaluate each model\n",
    "for name, model in models.items():\n",
    "    model.fit(X_train, y_train)\n",
    "    y_pred = model.predict(X_test)\n",
    "    r2 = r2_score(y_test, y_pred)\n",
    "    model_r2.append(r2)\n",
    "\n",
    "# Plotting R² scores for each model\n",
    "plt.figure(figsize=(12, 6))\n",
    "plt.barh(list(models.keys()), model_r2, color='lightgreen')\n",
    "plt.xlabel('R² Score')\n",
    "plt.title('Comparison of Models: R² Score')\n",
    "plt.show()\n"
   ]
  },
  {
   "cell_type": "code",
   "execution_count": null,
   "id": "312bb184-3887-49c5-b835-63f267c11cb6",
   "metadata": {},
   "outputs": [],
   "source": []
  },
  {
   "cell_type": "code",
   "execution_count": null,
   "id": "2eb289ad-1bd7-43df-b470-449fb2e30ff3",
   "metadata": {},
   "outputs": [],
   "source": []
  },
  {
   "cell_type": "code",
   "execution_count": null,
   "id": "e230acbd-dd47-46ef-a819-6e488badb773",
   "metadata": {},
   "outputs": [],
   "source": []
  }
 ],
 "metadata": {
  "kernelspec": {
   "display_name": "Python 3 (ipykernel)",
   "language": "python",
   "name": "python3"
  },
  "language_info": {
   "codemirror_mode": {
    "name": "ipython",
    "version": 3
   },
   "file_extension": ".py",
   "mimetype": "text/x-python",
   "name": "python",
   "nbconvert_exporter": "python",
   "pygments_lexer": "ipython3",
   "version": "3.10.5"
  }
 },
 "nbformat": 4,
 "nbformat_minor": 5
}
